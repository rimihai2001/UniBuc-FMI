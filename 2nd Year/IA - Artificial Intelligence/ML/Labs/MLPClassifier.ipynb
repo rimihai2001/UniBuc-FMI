{
  "nbformat": 4,
  "nbformat_minor": 0,
  "metadata": {
    "colab": {
      "name": "MLPClassifier.ipynb",
      "provenance": []
    },
    "kernelspec": {
      "name": "python3",
      "display_name": "Python 3"
    },
    "language_info": {
      "name": "python"
    }
  },
  "cells": [
    {
      "cell_type": "code",
      "execution_count": null,
      "metadata": {
        "id": "2PVgl3MRPmoO"
      },
      "outputs": [],
      "source": [
        ""
      ]
    },
    {
      "cell_type": "code",
      "source": [
        ""
      ],
      "metadata": {
        "id": "hjICPN7VP4NI"
      },
      "execution_count": null,
      "outputs": []
    },
    {
      "cell_type": "code",
      "source": [
        "!unzip data_MNIST.zip"
      ],
      "metadata": {
        "colab": {
          "base_uri": "https://localhost:8080/"
        },
        "id": "gBOoGwvlP2Oz",
        "outputId": "1507b960-198f-408b-b4d8-d71774bb0f2a"
      },
      "execution_count": null,
      "outputs": [
        {
          "output_type": "stream",
          "name": "stdout",
          "text": [
            "Archive:  data_MNIST.zip\n",
            "  inflating: data/test_images.txt    \n",
            "  inflating: data/test_labels.txt    \n",
            "  inflating: data/train_images.txt   \n",
            "  inflating: data/train_labels.txt   \n"
          ]
        }
      ]
    },
    {
      "cell_type": "code",
      "source": [
        "import numpy as np\n",
        "train_images = np.loadtxt('./data/train_images.txt') \n",
        "train_labels = np.loadtxt('./data/train_labels.txt', 'float')\n",
        "test_images = np.loadtxt('./data/test_images.txt') \n",
        "test_labels = np.loadtxt('./data/test_labels.txt', 'float')\n",
        "train_labels = train_labels.astype(dtype=int)\n",
        "test_labels = test_labels.astype(dtype=int)"
      ],
      "metadata": {
        "id": "9AFp2iLfP1VK"
      },
      "execution_count": null,
      "outputs": []
    },
    {
      "cell_type": "code",
      "source": [
        "from sklearn.neural_network import MLPClassifier\n",
        "clf = MLPClassifier(random_state=1, max_iter=1000,hidden_layer_sizes=(64,128,64),\n",
        "                    learning_rate='adaptive', learning_rate_init=0.01)\n",
        "clf.fit(train_images,train_labels)"
      ],
      "metadata": {
        "colab": {
          "base_uri": "https://localhost:8080/"
        },
        "id": "y8g18e3OP_sr",
        "outputId": "f1b260cb-3093-4e8e-edba-c42852ab2e54"
      },
      "execution_count": null,
      "outputs": [
        {
          "output_type": "execute_result",
          "data": {
            "text/plain": [
              "MLPClassifier(hidden_layer_sizes=(64, 128, 64), learning_rate='adaptive',\n",
              "              learning_rate_init=0.01, max_iter=1000, random_state=1)"
            ]
          },
          "metadata": {},
          "execution_count": 14
        }
      ]
    },
    {
      "cell_type": "code",
      "source": [
        "from sklearn.metrics import accuracy_score\n",
        "\n",
        "pred_labels = clf.predict(test_images)\n",
        "accuracy_score(test_labels,pred_labels)"
      ],
      "metadata": {
        "colab": {
          "base_uri": "https://localhost:8080/"
        },
        "id": "kcE9wpYzQ0nk",
        "outputId": "369b303a-28e0-4f81-fa2d-6bd64077ba42"
      },
      "execution_count": null,
      "outputs": [
        {
          "output_type": "execute_result",
          "data": {
            "text/plain": [
              "0.826"
            ]
          },
          "metadata": {},
          "execution_count": 15
        }
      ]
    },
    {
      "cell_type": "code",
      "source": [
        "from sklearn.model_selection import GridSearchCV\n",
        "clf = MLPClassifier(random_state=1, max_iter=1000,hidden_layer_sizes=(64,128,64))\n",
        "\n",
        "parameters = {'activation':[\"tanh\",'relu'],  'learning_rate_init':[0.1,0.01, 0.005, 0.001]}\n",
        "cv = GridSearchCV(clf, parameters)\n",
        "cv.fit(train_images, train_labels)"
      ],
      "metadata": {
        "colab": {
          "base_uri": "https://localhost:8080/"
        },
        "id": "VtmeNmiTRxzH",
        "outputId": "48b2f6e9-1f8c-4723-b6eb-98b984544795"
      },
      "execution_count": null,
      "outputs": [
        {
          "output_type": "execute_result",
          "data": {
            "text/plain": [
              "GridSearchCV(estimator=MLPClassifier(hidden_layer_sizes=(64, 128, 64),\n",
              "                                     max_iter=1000, random_state=1),\n",
              "             param_grid={'activation': ['tanh', 'relu'],\n",
              "                         'learning_rate_init': [0.1, 0.01, 0.005, 0.001]})"
            ]
          },
          "metadata": {},
          "execution_count": 18
        }
      ]
    },
    {
      "cell_type": "code",
      "source": [
        "pred_labels = cv.predict(test_images)\n",
        "accuracy_score(test_labels,pred_labels)"
      ],
      "metadata": {
        "colab": {
          "base_uri": "https://localhost:8080/"
        },
        "id": "IPEcud8iSi8x",
        "outputId": "3c637565-ea3d-4aa9-b031-394d70d59210"
      },
      "execution_count": null,
      "outputs": [
        {
          "output_type": "execute_result",
          "data": {
            "text/plain": [
              "0.854"
            ]
          },
          "metadata": {},
          "execution_count": 19
        }
      ]
    }
  ]
}